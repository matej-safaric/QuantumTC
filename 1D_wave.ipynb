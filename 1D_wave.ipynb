{
 "cells": [
  {
   "cell_type": "code",
   "execution_count": 1,
   "metadata": {},
   "outputs": [
    {
     "name": "stdout",
     "output_type": "stream",
     "text": [
      "[[ 1  1  0  0  0  0]\n",
      " [ 0 -1  1  0  0  0]\n",
      " [ 0  0 -1  1  0  0]\n",
      " [ 0  0  0 -1  1  0]\n",
      " [ 0  0  0  0 -1  1]]\n"
     ]
    }
   ],
   "source": [
    "import numpy as np\n",
    "\n",
    "def B(n : int):\n",
    "    '''Given an integer [n], the function returns a matrix B, as defined \n",
    "    in the article, for a graph with [n] vertices and [n+1] edges.'''\n",
    "    out = []\n",
    "    out.append([1, 1] + [0]*(n-1))\n",
    "    for i in range(1, n):\n",
    "        out.append([0]*i + [-1, 1] + [0]*(n-1-i))\n",
    "    return np.array(out)\n",
    "\n",
    "print(B(5))  "
   ]
  },
  {
   "cell_type": "code",
   "execution_count": 2,
   "metadata": {},
   "outputs": [],
   "source": [
    "from Hamiltonians.Libraries import HamiltonianEvolution as HE\n",
    "from qiskit.quantum_info import Statevector"
   ]
  },
  {
   "cell_type": "code",
   "execution_count": 3,
   "metadata": {},
   "outputs": [
    {
     "name": "stdout",
     "output_type": "stream",
     "text": [
      "[[ 0.   0.   0.   0.   0.2  0.2  0.   0.   0. ]\n",
      " [ 0.   0.   0.   0.   0.  -0.2  0.2  0.   0. ]\n",
      " [ 0.   0.   0.   0.   0.   0.  -0.2  0.2  0. ]\n",
      " [ 0.   0.   0.   0.   0.   0.   0.  -0.2  0.2]\n",
      " [ 0.2  0.   0.   0.   0.   0.   0.   0.   0. ]\n",
      " [ 0.2 -0.2  0.   0.   0.   0.   0.   0.   0. ]\n",
      " [ 0.   0.2 -0.2  0.   0.   0.   0.   0.   0. ]\n",
      " [ 0.   0.   0.2 -0.2  0.   0.   0.   0.   0. ]\n",
      " [ 0.   0.   0.   0.2  0.   0.   0.   0.   0. ]]\n"
     ]
    }
   ],
   "source": [
    "def BHamiltonian(n : int):\n",
    "    '''Given an integer [n], the function returns the Hamiltonian matrix \n",
    "    for a graph with [n] vertices and [n+1] edges.'''\n",
    "    H = np.block([[np.zeros((n, n)), B(n)], [np.transpose(B(n)), np.zeros((n+1, n+1))]]) / (n+1)\n",
    "    return H\n",
    "\n",
    "H = BHamiltonian(4)\n",
    "print(H)"
   ]
  },
  {
   "cell_type": "markdown",
   "metadata": {},
   "source": [
    "We now wish to set the initial conditions for our model. The initial condition of our choice is one for a rigidly translating wave packet, defined via any twice-differentiable differentiable function $w$ by $$w(x -ct)$$"
   ]
  },
  {
   "cell_type": "markdown",
   "metadata": {},
   "source": [
    "First, let's see what happens with a static initial state, i.e. a state where all the field values on the edges are set to zero: $$\\phi_E = 0.$$\n",
    "Following from that we can set the values of $\\phi_V$ to any arbitrary constant values.\n",
    "\n",
    "For now, let's set the middle vertex to have an electric field value of $1$, while all the other vertices are set to $0$."
   ]
  },
  {
   "cell_type": "code",
   "execution_count": 4,
   "metadata": {},
   "outputs": [
    {
     "name": "stdout",
     "output_type": "stream",
     "text": [
      "Statevector([0.+0.j, 1.+0.j, 0.+0.j, 0.+0.j, 0.+0.j, 0.+0.j, 0.+0.j,\n",
      "             0.+0.j, 0.+0.j],\n",
      "            dims=(9,))\n"
     ]
    }
   ],
   "source": [
    "# We wish to define the initial condition by splitting it into two parts,\n",
    "# one for the vertices and one for the edges. \n",
    "\n",
    "def initial_condition(n : int):\n",
    "    mid = n // 2\n",
    "    out = (mid - 1) * [0] + [1] + (n - mid) * [0] + (n + 1) * [0]\n",
    "    return out\n",
    "\n",
    "init = Statevector(initial_condition(4))\n",
    "print(init)"
   ]
  },
  {
   "cell_type": "code",
   "execution_count": 5,
   "metadata": {},
   "outputs": [
    {
     "name": "stdout",
     "output_type": "stream",
     "text": [
      "Statevector([1.97345747e-02+0.00000000e+00j,\n",
      "             9.60398227e-01+0.00000000e+00j,\n",
      "             1.97346631e-02+0.00000000e+00j,\n",
      "             6.61350445e-05+0.00000000e+00j,\n",
      "             0.00000000e+00-1.32270215e-03j,\n",
      "             0.00000000e+00+1.96026580e-01j,\n",
      "             0.00000000e+00-1.96026578e-01j,\n",
      "             0.00000000e+00-1.32005322e-03j,\n",
      "             0.00000000e+00-2.65146661e-06j],\n",
      "            dims=(9,))\n"
     ]
    }
   ],
   "source": [
    "# Now it's time to model the behavior of the system due to the above \n",
    "# Hamiltonian and the initial condition.\n",
    "\n",
    "HE.evolveTime(H, 1, init)"
   ]
  },
  {
   "cell_type": "code",
   "execution_count": 6,
   "metadata": {},
   "outputs": [
    {
     "data": {
      "image/png": "[encoded data removed]",
      "text/plain": [
       "<Figure size 640x480 with 4 Axes>"
      ]
     },
     "metadata": {},
     "output_type": "display_data"
    }
   ],
   "source": [
    "HE.plotEvolution(H, init, 10, 0.01)"
   ]
  }
 ],
 "metadata": {
  "kernelspec": {
   "display_name": "Python 3",
   "language": "python",
   "name": "python3"
  },
  "language_info": {
   "codemirror_mode": {
    "name": "ipython",
    "version": 3
   },
   "file_extension": ".py",
   "mimetype": "text/x-python",
   "name": "python",
   "nbconvert_exporter": "python",
   "pygments_lexer": "ipython3",
   "version": "3.12.6"
  }
 },
 "nbformat": 4,
 "nbformat_minor": 2
}
